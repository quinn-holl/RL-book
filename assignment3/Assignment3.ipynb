{
 "cells": [
  {
   "cell_type": "code",
   "execution_count": 43,
   "metadata": {},
   "outputs": [],
   "source": [
    "import sys \n",
    "import os\n",
    "import numpy as np\n",
    "import itertools\n",
    "from dataclasses import dataclass\n",
    "from matplotlib import pyplot as plt\n",
    "from typing import Optional, Mapping, Dict, Tuple\n",
    "\n",
    "sys.path.append(os.path.abspath(\"/Users/quinnhollister/RL-book/rl/markov_process.py\"))\n",
    "from rl import markov_process\n",
    "from rl.distribution import Categorical, Constant, Categorical, FiniteDistribution\n",
    "from rl.markov_process import FiniteMarkovProcess, NonTerminal, MarkovRewardProcess, FiniteMarkovRewardProcess\n",
    "from rl.markov_decision_process import FiniteMarkovDecisionProcess\n",
    "from rl.policy import FiniteDeterministicPolicy\n",
    "\n",
    "#Question 3, Need to code the Frog Question as an FMDP\n",
    "\n",
    "\n",
    "\n",
    "\n",
    "@dataclass(frozen=True)\n",
    "class lily:\n",
    "    position: int\n",
    "        \n",
    "        \n",
    "ActionMapping = Mapping[lily, Mapping[int, Categorical[Tuple[lily, float]]]]\n",
    "        \n",
    "    \n",
    "    \n",
    "class FrogEscape(FiniteMarkovDecisionProcess[lily, int]):\n",
    "    \n",
    "    def __init__(self, lilySize: int):\n",
    "        self.lilySize = lilySize\n",
    "        super().__init__(self.get_action_transition_reward_map())\n",
    "        \n",
    "        \n",
    "    def get_action_transition_reward_map(self) -> ActionMapping:\n",
    "        d: Dict[lily, Dict[int, Categorical[Tuple[lily, float]]]] = {}\n",
    "        \n",
    "        for s in range(1,self.lilySize):\n",
    "            di: Dict[int, Categorical[Tuple[lily,float]]] = {}\n",
    "            #A->0, B->1\n",
    "            for action in list([0,1]):  \n",
    "                state_prob_map: Mapping[Tuple[lily,float], float] = {}\n",
    "                #Flesh out action A\n",
    "                if action == 0:\n",
    "                    if s == 1:\n",
    "                        state_prob_map[(lily(s-1), 0)] = s/self.lilySize\n",
    "                        state_prob_map[(lily(s+1), 0)] = (self.lilySize-s)/self.lilySize\n",
    "                    elif s == self.lilySize - 1:\n",
    "                        state_prob_map[(lily(s+1),1)] = (self.lilySize - s)/self.lilySize\n",
    "                        state_prob_map[(lily(s-1),0)] = s/self.lilySize\n",
    "                    else:\n",
    "                        state_prob_map[(lily(s-1), 0)] = s/self.lilySize\n",
    "                        state_prob_map[(lily(s+1), 0)] = (self.lilySize - s)/self.lilySize\n",
    "                #Flesh out action B\n",
    "                if action == 1: \n",
    "                    for sprime in range(0, self.lilySize + 1):\n",
    "                        if sprime == s:\n",
    "                            continue\n",
    "                        if sprime == 0:\n",
    "                            state_prob_map[(lily(sprime), 0)] = 1/self.lilySize\n",
    "                        elif sprime == self.lilySize -1:    \n",
    "                             state_prob_map[(lily(sprime), 1)] = 1/self.lilySize\n",
    "                        else:\n",
    "                            state_prob_map[(lily(sprime), 0)] = 1/self.lilySize\n",
    "                di[action] = Categorical(state_prob_map)\n",
    "            d[lily(s)] = di\n",
    "        return d\n",
    "    \n",
    "\n",
    "\n",
    "\n"
   ]
  },
  {
   "cell_type": "code",
   "execution_count": 44,
   "metadata": {},
   "outputs": [
    {
     "name": "stdout",
     "output_type": "stream",
     "text": [
      "From State lily(position=1):\n",
      "  With Action 0:\n",
      "    To [Terminal State lily(position=0) and Reward 0.000] with Probability 0.333\n",
      "    To [State lily(position=2) and Reward 0.000] with Probability 0.667\n",
      "  With Action 1:\n",
      "    To [Terminal State lily(position=0) and Reward 0.000] with Probability 0.333\n",
      "    To [State lily(position=2) and Reward 1.000] with Probability 0.333\n",
      "    To [Terminal State lily(position=3) and Reward 0.000] with Probability 0.333\n",
      "From State lily(position=2):\n",
      "  With Action 0:\n",
      "    To [Terminal State lily(position=3) and Reward 1.000] with Probability 0.333\n",
      "    To [State lily(position=1) and Reward 0.000] with Probability 0.667\n",
      "  With Action 1:\n",
      "    To [Terminal State lily(position=0) and Reward 0.000] with Probability 0.333\n",
      "    To [State lily(position=1) and Reward 0.000] with Probability 0.333\n",
      "    To [Terminal State lily(position=3) and Reward 0.000] with Probability 0.333\n",
      "\n"
     ]
    }
   ],
   "source": [
    "#Lets check that the code does what we want it to do:\n",
    "\n",
    "Frog3 = FrogEscape(3)\n",
    "print(Frog3)"
   ]
  },
  {
   "cell_type": "code",
   "execution_count": 45,
   "metadata": {},
   "outputs": [
    {
     "name": "stdout",
     "output_type": "stream",
     "text": [
      "For State lily(position=1): Do Action 0\n",
      "For State lily(position=2): Do Action 1\n",
      "\n"
     ]
    }
   ],
   "source": [
    "#Now we need to write code that creates the full set of deterministic policies for a given n\n",
    "\n",
    "\n",
    "def gen_fdp(lilySize, actionVec):\n",
    "    fdp = FiniteDeterministicPolicy(\n",
    "        {lily(s): action for s, action in zip(range(1, lilySize), actionVec)}\n",
    "    )\n",
    "    return fdp\n",
    "\n",
    "\n",
    "\n",
    "print(gen_fdp(3, [0,1]))"
   ]
  },
  {
   "cell_type": "code",
   "execution_count": 46,
   "metadata": {},
   "outputs": [],
   "source": [
    "#As long as we provide an actionVec, we can get the implied MRP through the FMDP function, now lets create\n",
    "#each of these determinstic policies for a given n, and then to find the optimal Value Func and Policy\n",
    "\n",
    "def order(vec1, vec2):\n",
    "    partial = [i > j for i,j in zip(vec1,vec2)]\n",
    "    for i in partial:\n",
    "        if i == False:\n",
    "            return False\n",
    "    return True\n",
    "\n",
    "\n",
    "def optimal_frog(lilySize):\n",
    "    #First create the deterministic policies, and the associated MDP:\n",
    "    policies = list(itertools.product([0,1], repeat = lilySize))\n",
    "    Frog = FrogEscape(lilySize)\n",
    "    \n",
    "    \n",
    "    #Now lets effectively do a grid search to find the best value func and thus policy. Need to initialize first\n",
    "    max_value_func = [0]*(lilySize-1)\n",
    "    max_policy = None\n",
    "\n",
    "    for policy in policies:\n",
    "        fdp = gen_fdp(lilySize, policy)\n",
    "        implied_mrp = Frog.apply_finite_policy(fdp)\n",
    "        value_func = implied_mrp.get_value_function_vec(gamma = 1)\n",
    "        \n",
    "        #Now, lets check if value func is optimal\n",
    "        \n",
    "        if order(value_func, max_value_func) == True:\n",
    "            max_value_func = value_func\n",
    "            max_policy = fdp\n",
    "    \n",
    "    return max_policy, max_value_func\n",
    "    \n",
    "    \n",
    "\n",
    "    \n",
    "    \n",
    "    \n"
   ]
  },
  {
   "cell_type": "code",
   "execution_count": 78,
   "metadata": {},
   "outputs": [
    {
     "name": "stdout",
     "output_type": "stream",
     "text": [
      "[0.57142857 0.71428571]\n",
      "[0.65957447 0.70212766 0.72340426 0.74468085 0.78723404]\n",
      "[0.67567568 0.70523649 0.71368243 0.71790541 0.72128378 0.72550676\n",
      " 0.7339527  0.76351351]\n"
     ]
    }
   ],
   "source": [
    "OptFrog3 = optimal_frog(3)\n",
    "OptFrog6 = optimal_frog(6)\n",
    "OptFrog9 = optimal_frog(9)\n",
    "\n",
    "\n",
    "\n",
    "\n",
    "\n",
    "\n",
    "\n",
    "print(OptFrog3[1])\n",
    "print(OptFrog6[1])\n",
    "print(OptFrog9[1])"
   ]
  },
  {
   "cell_type": "code",
   "execution_count": 82,
   "metadata": {},
   "outputs": [
    {
     "data": {
      "text/plain": [
       "Text(0, 0.5, 'Probabililty of escape for optimal policy')"
      ]
     },
     "execution_count": 82,
     "metadata": {},
     "output_type": "execute_result"
    },
    {
     "data": {
      "image/png": "[encoded data removed]",
      "text/plain": [
       "<Figure size 432x288 with 1 Axes>"
      ]
     },
     "metadata": {
      "needs_background": "light"
     },
     "output_type": "display_data"
    }
   ],
   "source": [
    "#Now lets plot prob of escape for these three different frog games:\\\n",
    "x_axis_3 = [str(x) for x in range(1, 3)]\n",
    "x_axis_6 = [str(x) for x in range(1, 6)]\n",
    "x_axis_9 = [str(x) for x in range(1, 9)]\n",
    "\n",
    "                         \n",
    "game3 = plt.plot(x_axis_3, OptFrog3[1], 'ko-', label = \"n=3\")\n",
    "game6 = plt.plot(x_axis_6, OptFrog6[1], 'ro-', label = \"n=6\")\n",
    "game9 = plt.plot(x_axis_9, OptFrog9[1], 'mo-', label = \"n=9\")\n",
    "\n",
    "plt.legend()\n",
    "\n",
    "plt.title(\"Probability of Escape for Various n\")\n",
    "plt.xlabel(\"lily #\")\n",
    "plt.ylabel(\"Probabililty of escape for optimal policy\")\n"
   ]
  },
  {
   "cell_type": "code",
   "execution_count": 97,
   "metadata": {},
   "outputs": [
    {
     "data": {
      "image/png": "[encoded data removed]",
      "text/plain": [
       "<Figure size 432x288 with 1 Axes>"
      ]
     },
     "metadata": {
      "needs_background": "light"
     },
     "output_type": "display_data"
    }
   ],
   "source": [
    "#Now lets plot a graph of the optimal croak\n",
    "\n",
    "#print(OptFrog3[0].action_for[lily(1)])\n",
    "policy3 = [OptFrog3[0].action_for[lily(i)] for i in range(1,3)]\n",
    "policy6 = [OptFrog6[0].action_for[lily(i)] for i in range(1,6)]\n",
    "policy9 = [OptFrog9[0].action_for[lily(i)] for i in range(1,9)]\n",
    "\n",
    "\n",
    "plot1 = plt.plot(x_axis_3, policy3, 'ko-', label = \"n=3\")\n",
    "plot2 = plt.plot(x_axis_6, policy6, 'ro-', label = \"n=6\")\n",
    "plot3 = plt.plot(x_axis_9, policy9, 'mo-', label = \"n=9\")"
   ]
  },
  {
   "cell_type": "code",
   "execution_count": 98,
   "metadata": {},
   "outputs": [
    {
     "data": {
      "image/png": "[encoded data removed]",
      "text/plain": [
       "<Figure size 432x288 with 1 Axes>"
      ]
     },
     "metadata": {
      "needs_background": "light"
     },
     "output_type": "display_data"
    }
   ],
   "source": [
    "plot2 = plt.plot(x_axis_6, policy6, 'ro-', label = \"n=6\")"
   ]
  },
  {
   "cell_type": "code",
   "execution_count": 99,
   "metadata": {},
   "outputs": [
    {
     "data": {
      "image/png": "[encoded data removed]",
      "text/plain": [
       "<Figure size 432x288 with 1 Axes>"
      ]
     },
     "metadata": {
      "needs_background": "light"
     },
     "output_type": "display_data"
    }
   ],
   "source": [
    "plot3 = plt.plot(x_axis_9, policy9, 'mo-', label = \"n=9\")"
   ]
  },
  {
   "cell_type": "code",
   "execution_count": null,
   "metadata": {},
   "outputs": [],
   "source": []
  }
 ],
 "metadata": {
  "kernelspec": {
   "display_name": "Python 3",
   "language": "python",
   "name": "python3"
  },
  "language_info": {
   "codemirror_mode": {
    "name": "ipython",
    "version": 3
   },
   "file_extension": ".py",
   "mimetype": "text/x-python",
   "name": "python",
   "nbconvert_exporter": "python",
   "pygments_lexer": "ipython3",
   "version": "3.8.8"
  }
 },
 "nbformat": 4,
 "nbformat_minor": 4
}
