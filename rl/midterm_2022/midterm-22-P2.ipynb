{
 "cells": [
  {
   "cell_type": "markdown",
   "metadata": {},
   "source": [
    "# Problem 2 \n",
    "$\\textbf{Consider the case where T = 1, what is the optimal portfolio choice, which maximizes the expected utility of wealth after one time-step?}$"
   ]
  },
  {
   "cell_type": "markdown",
   "metadata": {},
   "source": [
    "Our Wealth after one time step takes the form:\n",
    "\\begin{equation*}\n",
    "    W_{1} = W_{0} * ((1-\\pi)X_{1} + \\pi Y_{1}) \\\\\n",
    "\\end{equation*}\n",
    "\n",
    "\\begin{equation*}\n",
    "    (X_{t+1}, Y_{t+1}) \\sim\n",
    "    \\begin{cases} \n",
    "        (1,0), & \\textrm{with probability} \\frac{1}{2} \\\\\n",
    "        (0,2^{i}), & \\textrm{with probability} \\frac{1}{i+1}, i \\in Z\n",
    "    \\end{cases}\n",
    "\\end{equation*}"
   ]
  },
  {
   "cell_type": "markdown",
   "metadata": {},
   "source": [
    "\\begin{equation*}\n",
    "    E[log(W_{1})] = E[log(W_{0}*((1-\\pi)X_{1} + \\pi Y_{1} )] \\\\\n",
    "    E[log(W_{1})] = log(W_{0}) + E[log((1-\\pi)X_{1} + \\pi Y_{1})]  \\\\\n",
    "    E[log(W_{1})] = log(W_{0}) + (\\frac{1}{2} * log(1-\\pi) + \\sum_{i=1}^{\\inf}(\\frac{1}{2^{i+1}} * log(\\pi \\cdot 2^{i})) \\\\\n",
    "    E[log(W_{1})] = log(W_{0}) + \\frac{1}{2} log(1-\\pi) + \\sum_{i=1}^{\\inf}(\\frac{log(\\pi) + i*log(2)}{2^{i+1}})\n",
    "\\end{equation*}\n",
    "\n",
    "Since we are trying to find the optimal portfoli choice that will maximize this quantity, we can take the partial derivative of this equation with respect to $\\pi$ and set it to zero to find the optimal choice:\n",
    "\n",
    "\\begin{equation*}\n",
    "    \\frac{\\partial E[log(W_{1})]}{\\partial \\pi} = -\\frac{1}{2*(1-\\pi)} + \\sum_{i=1}^{inf} \\frac{1}{2^{i+1}*\\pi} = 0 \\\\\n",
    "    \\frac{1}{\\pi^{*}} * \\sum_{i=1}^{\\inf} \\frac{1}{2^{i+1}} = \\frac{1}{2*(1-\\pi^{*})}\n",
    "\\end{equation*}\n",
    "\n",
    "But we know the value of this summation of the infinite geometric series:\n",
    "\n",
    "\\begin{equation*}\n",
    "    \\sum_{i=1}^{\\inf} \\frac{1}{2^{i+1}} = \\frac{1}{2}\n",
    "\\end{equation*}\n",
    "\n",
    "So, our equation becomes:\n",
    "\n",
    "\\begin{equation*}\n",
    "    \\frac{1}{\\pi^{*}} * \\frac{1}{2} = \\frac{1}{2}*\\frac{1}{1-\\pi^{*}} \\\\\n",
    "    \\pi^{*} = \\frac{1}{2}\n",
    "\\end{equation*}"
   ]
  },
  {
   "cell_type": "markdown",
   "metadata": {},
   "source": [
    "# Prove that the optimal policy when you have to invest over T > 1 periods is the same as the optimal policy for T = 1\n"
   ]
  },
  {
   "cell_type": "markdown",
   "metadata": {},
   "source": [
    "Denote the value function at time t for policy $\\pi = (\\pi_{0}, ..., \\pi_{T-1})$ as:\n",
    "\\begin{equation*}\n",
    "    V_{t}^{\\pi}(W_{t}) = E_{\\pi} [log(W_{t}) | (t,W_{t})]\n",
    "\\end{equation*}\n",
    "and out optimal value function as:\n",
    "\\begin{equation*}\n",
    "    V_{t}^{*}(W_{t}) = max_{\\pi} V_{t}^{\\pi}(W_{t}) = max_{\\pi} E_{\\pi} [log(W_{t}) | (t,W_{t})]\n",
    "\\end{equation*}\n",
    "\n",
    "The Bellman Optimality Equation is:\n",
    "\n",
    "\\begin{equation*}\n",
    "    V_{t}^{*}(W_{t}) = max_{\\pi_{t}} \\{ E_{(X_{t},Y_{t})} [V_{t+1}^{*}(W_{t+1})] \\} \\\\\n",
    "    V_{T-1}^{*}(W_{T-1}) = max_{\\pi_{t}} \\{E_{(X_{T-1},Y_{T-1})} [log(W_{T})] \\}\n",
    "\\end{equation*}\n",
    "\n",
    "\n",
    "We actually know the optimal form of the second condition (our B.C.) since it's equivalent to the first part of the question, we just need to evaulate our part 1 question at our optimal policy:\n",
    "\n",
    "\\begin{equation*}\n",
    "    \\pi_{T-1}^{*} = \\frac{1}{2} \\\\\n",
    "    V_{T-1}^{*}(W_{T}) = log(W_{T-1}) + \\frac{1}{2} log(\\frac{1}{2}) + \\sum_{i=1}^{\\inf}(\\frac{-log(2) + i log(2)}{2^{i+1}} \\\\\n",
    "    V_{T-1}^{*}(W_{T}) = log(W_{T-1}) - \\frac{1}{2} log(2) + log(2) * [-\\frac{1}{2} + \\sum_{i=1}^{\\inf}(\\frac{i}{2^{i+1}} ] \\\\\n",
    "\\end{equation*}\n",
    "\n",
    "But that geometric sum can be rewritten:\n",
    "\n",
    "\\begin{equation*}\n",
    "    \\sum_{i=1}^{\\inf} (\\frac{i}{2^{i+1}}) = \\frac{1}{2}\\sum_{i=1}^{\\inf}(\\frac{i}{2^{i}}) = \\frac{1}{2}\\sum_{i=1}^{\\inf}\\sum_{m=1}^{i} (\\frac{1}{2})^{i} = \\frac{1}{2} \\sum_{m=1}^{\\inf} \\sum_{i=m}^{\\inf} (\\frac{1}{2})^{i} \\\\\n",
    "    \\frac{1}{2} \\sum_{m=1}^{\\inf} \\sum_{i=m}^{\\inf} (\\frac{1}{2})^{i} = \\frac{1}{2}( \\frac{\\frac{1}{2}}{(1-\\frac{1}{2})^{2}}) = 1\n",
    "\\end{equation*}\n",
    "\n",
    "Thus we are left with:\n",
    "\n",
    "\\begin{equation*}\n",
    "    V_{T-1}^{*} (W_{T-1}) = log(W_{T-1}) - \\frac{1}{2}log(2) + log(2)*(\\frac{-1}{2} + 1) = log(W_{T-1})\n",
    "\\end{equation*}\n",
    "\n",
    "\n",
    "So, we can make an educated guess that our optimal value function should be of the form:\n",
    "\n",
    "\\begin{equation*}\n",
    "    V_{t}^{*} (W_{t}) = b_{t}*log(W_{t})\n",
    "\\end{equation*}"
   ]
  },
  {
   "cell_type": "markdown",
   "metadata": {},
   "source": [
    "So now we can express our Bellman Optimality Equation using this functional form:\n",
    "\n",
    "\\begin{equation*}\n",
    "    V_{t}^{*}(W_{t}) = max_{\\pi_{t}} \\{ E_{(X_{t},Y_{t})} [b_{t+1}*log(W_{t+1})] \\} \\\\\n",
    "    V_{t}^{*}(W_{t}) = max_{\\pi_{t}} \\{ log(b_{t+1}*W_{t+1}) + \\frac{1}{2} log(1-\\pi) + \\sum_{i=1}^{\\inf}(\\frac{log(\\pi) + i*log(2)}{2^{i+1}}) \\}\n",
    "\\end{equation*}\n",
    "\n",
    "But this is the exact problem we've already solved twice before! In other words, only now we have an extra constant $b_{t}$ attached to the $log(W_{t})$ term. Thus, we know that the optimal policy is still just:\n",
    "\n",
    "\\begin{equation*}\n",
    "    \\pi_{t}^{*} = \\frac{1}{2} = \\pi^{*}\n",
    "\\end{equation*}\n",
    "\n",
    "\n",
    "\n",
    "\n",
    "\n",
    "\n",
    "\n",
    "\n",
    "\n",
    "\n",
    "\n"
   ]
  },
  {
   "cell_type": "code",
   "execution_count": null,
   "metadata": {},
   "outputs": [],
   "source": []
  }
 ],
 "metadata": {
  "kernelspec": {
   "display_name": "Julia 1.6.3",
   "language": "julia",
   "name": "julia-1.6"
  },
  "language_info": {
   "file_extension": ".jl",
   "mimetype": "application/julia",
   "name": "julia",
   "version": "1.6.3"
  }
 },
 "nbformat": 4,
 "nbformat_minor": 4
}
